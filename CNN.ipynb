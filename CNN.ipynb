{
 "cells": [
  {
   "cell_type": "code",
   "execution_count": 1,
   "metadata": {},
   "outputs": [],
   "source": [
    "import tensorflow as tf\n",
    "from tensorflow.keras.models import Sequential\n",
    "from tensorflow.keras.layers import Dense, Dropout, Activation, Flatten, Conv2D, MaxPool2D, BatchNormalization, LeakyReLU\n",
    "import numpy as np\n",
    "from PIL import Image\n",
    "from tensorflow.keras.preprocessing.image import ImageDataGenerator\n",
    "from tensorflow.keras.callbacks import TensorBoard\n",
    "import time\n"
   ]
  },
  {
   "cell_type": "code",
   "execution_count": 2,
   "metadata": {},
   "outputs": [],
   "source": [
    "EPOCHS = 50\n",
    "NAME = f\"single_grayscale_image_trainset_V04_{EPOCHS}epochs{int(time.time())}\"\n"
   ]
  },
  {
   "cell_type": "code",
   "execution_count": 3,
   "metadata": {},
   "outputs": [],
   "source": [
    "tensorboard = TensorBoard(log_dir=\"logs/{}\".format(NAME))"
   ]
  },
  {
   "cell_type": "code",
   "execution_count": 4,
   "metadata": {},
   "outputs": [],
   "source": [
    "# def create_data_via_ImageDataGenerator():\n",
    "#     train = ImageDataGenerator(rescale=1/255)\n",
    "#     validation = ImageDataGenerator(rescale=1/255)\n",
    "#     train_dataset = train.flow_from_directory(\"../Data/Train/smallTown\",\n",
    "#                                               target_size=(60, 60), batch_size=3, class_mode='binary')\n",
    "#     validation_dataset = train.flow_from_directory(\"../Data/Train/smallTown\",\n",
    "#                                                target_size=(60, 60), batch_size=3, class_mode='binary')\n"
   ]
  },
  {
   "cell_type": "code",
   "execution_count": 5,
   "metadata": {},
   "outputs": [],
   "source": [
    "def load_data_via_numpy_load():\n",
    "    return (np.load(\"CNN_trainset_V04_singleGrayscale_X.npy\")/255, np.load(\"CNN_trainset_V04_singleGrayscale_Y.npy\"))\n"
   ]
  },
  {
   "cell_type": "code",
   "execution_count": 6,
   "metadata": {},
   "outputs": [],
   "source": [
    "X, Y = load_data_via_numpy_load()\n"
   ]
  },
  {
   "cell_type": "code",
   "execution_count": 7,
   "metadata": {},
   "outputs": [
    {
     "data": {
      "text/plain": [
       "array([[[[0.48627451],\n",
       "         [0.48627451],\n",
       "         [0.48627451],\n",
       "         ...,\n",
       "         [0.52156863],\n",
       "         [0.51764706],\n",
       "         [0.51764706]],\n",
       "\n",
       "        [[0.48235294],\n",
       "         [0.48235294],\n",
       "         [0.48627451],\n",
       "         ...,\n",
       "         [0.51764706],\n",
       "         [0.51372549],\n",
       "         [0.51372549]],\n",
       "\n",
       "        [[0.48235294],\n",
       "         [0.48235294],\n",
       "         [0.48627451],\n",
       "         ...,\n",
       "         [0.51764706],\n",
       "         [0.51372549],\n",
       "         [0.51372549]],\n",
       "\n",
       "        ...,\n",
       "\n",
       "        [[0.47843137],\n",
       "         [0.47843137],\n",
       "         [0.47843137],\n",
       "         ...,\n",
       "         [0.50980392],\n",
       "         [0.51372549],\n",
       "         [0.51372549]],\n",
       "\n",
       "        [[0.4745098 ],\n",
       "         [0.47843137],\n",
       "         [0.47843137],\n",
       "         ...,\n",
       "         [0.50980392],\n",
       "         [0.51372549],\n",
       "         [0.51372549]],\n",
       "\n",
       "        [[0.4745098 ],\n",
       "         [0.4745098 ],\n",
       "         [0.47843137],\n",
       "         ...,\n",
       "         [0.50980392],\n",
       "         [0.51372549],\n",
       "         [0.51372549]]],\n",
       "\n",
       "\n",
       "       [[[0.81176471],\n",
       "         [0.69411765],\n",
       "         [0.6       ],\n",
       "         ...,\n",
       "         [0.55686275],\n",
       "         [0.62352941],\n",
       "         [0.64313725]],\n",
       "\n",
       "        [[0.80784314],\n",
       "         [0.68627451],\n",
       "         [0.59215686],\n",
       "         ...,\n",
       "         [0.51764706],\n",
       "         [0.59215686],\n",
       "         [0.60784314]],\n",
       "\n",
       "        [[0.8       ],\n",
       "         [0.67843137],\n",
       "         [0.57647059],\n",
       "         ...,\n",
       "         [0.49019608],\n",
       "         [0.57647059],\n",
       "         [0.6       ]],\n",
       "\n",
       "        ...,\n",
       "\n",
       "        [[0.20784314],\n",
       "         [0.18039216],\n",
       "         [0.16078431],\n",
       "         ...,\n",
       "         [0.23921569],\n",
       "         [0.23137255],\n",
       "         [0.21568627]],\n",
       "\n",
       "        [[0.20784314],\n",
       "         [0.18431373],\n",
       "         [0.16470588],\n",
       "         ...,\n",
       "         [0.23529412],\n",
       "         [0.22745098],\n",
       "         [0.21960784]],\n",
       "\n",
       "        [[0.21176471],\n",
       "         [0.18431373],\n",
       "         [0.16470588],\n",
       "         ...,\n",
       "         [0.21568627],\n",
       "         [0.20784314],\n",
       "         [0.2       ]]],\n",
       "\n",
       "\n",
       "       [[[0.00392157],\n",
       "         [0.23137255],\n",
       "         [0.05490196],\n",
       "         ...,\n",
       "         [0.        ],\n",
       "         [0.07843137],\n",
       "         [0.06666667]],\n",
       "\n",
       "        [[0.00392157],\n",
       "         [0.03529412],\n",
       "         [0.10588235],\n",
       "         ...,\n",
       "         [0.00784314],\n",
       "         [0.        ],\n",
       "         [0.00392157]],\n",
       "\n",
       "        [[0.00392157],\n",
       "         [0.        ],\n",
       "         [0.        ],\n",
       "         ...,\n",
       "         [0.05882353],\n",
       "         [0.21960784],\n",
       "         [0.12156863]],\n",
       "\n",
       "        ...,\n",
       "\n",
       "        [[0.00392157],\n",
       "         [0.21568627],\n",
       "         [0.09803922],\n",
       "         ...,\n",
       "         [0.2627451 ],\n",
       "         [0.21568627],\n",
       "         [0.47843137]],\n",
       "\n",
       "        [[0.01176471],\n",
       "         [0.09019608],\n",
       "         [0.14509804],\n",
       "         ...,\n",
       "         [0.10196078],\n",
       "         [0.06666667],\n",
       "         [0.01960784]],\n",
       "\n",
       "        [[0.        ],\n",
       "         [0.        ],\n",
       "         [0.        ],\n",
       "         ...,\n",
       "         [0.38431373],\n",
       "         [0.73333333],\n",
       "         [0.81176471]]],\n",
       "\n",
       "\n",
       "       ...,\n",
       "\n",
       "\n",
       "       [[[0.19607843],\n",
       "         [0.19607843],\n",
       "         [0.20392157],\n",
       "         ...,\n",
       "         [0.25882353],\n",
       "         [0.2745098 ],\n",
       "         [0.29411765]],\n",
       "\n",
       "        [[0.2       ],\n",
       "         [0.20392157],\n",
       "         [0.20784314],\n",
       "         ...,\n",
       "         [0.27058824],\n",
       "         [0.28627451],\n",
       "         [0.30196078]],\n",
       "\n",
       "        [[0.20784314],\n",
       "         [0.21176471],\n",
       "         [0.21568627],\n",
       "         ...,\n",
       "         [0.28627451],\n",
       "         [0.29803922],\n",
       "         [0.30588235]],\n",
       "\n",
       "        ...,\n",
       "\n",
       "        [[0.10980392],\n",
       "         [0.10980392],\n",
       "         [0.10980392],\n",
       "         ...,\n",
       "         [0.41960784],\n",
       "         [0.41176471],\n",
       "         [0.41568627]],\n",
       "\n",
       "        [[0.10980392],\n",
       "         [0.10588235],\n",
       "         [0.10588235],\n",
       "         ...,\n",
       "         [0.40392157],\n",
       "         [0.4       ],\n",
       "         [0.40784314]],\n",
       "\n",
       "        [[0.10588235],\n",
       "         [0.10196078],\n",
       "         [0.10196078],\n",
       "         ...,\n",
       "         [0.39607843],\n",
       "         [0.39607843],\n",
       "         [0.40784314]]],\n",
       "\n",
       "\n",
       "       [[[0.05490196],\n",
       "         [0.06666667],\n",
       "         [0.14901961],\n",
       "         ...,\n",
       "         [0.01176471],\n",
       "         [0.        ],\n",
       "         [0.        ]],\n",
       "\n",
       "        [[0.2627451 ],\n",
       "         [0.03921569],\n",
       "         [0.41176471],\n",
       "         ...,\n",
       "         [0.        ],\n",
       "         [0.        ],\n",
       "         [0.01176471]],\n",
       "\n",
       "        [[0.02745098],\n",
       "         [0.03921569],\n",
       "         [0.08235294],\n",
       "         ...,\n",
       "         [0.00392157],\n",
       "         [0.01176471],\n",
       "         [0.01176471]],\n",
       "\n",
       "        ...,\n",
       "\n",
       "        [[0.00392157],\n",
       "         [0.        ],\n",
       "         [0.01960784],\n",
       "         ...,\n",
       "         [0.0745098 ],\n",
       "         [0.29803922],\n",
       "         [0.15686275]],\n",
       "\n",
       "        [[0.39607843],\n",
       "         [0.13333333],\n",
       "         [0.37647059],\n",
       "         ...,\n",
       "         [0.14901961],\n",
       "         [0.23529412],\n",
       "         [0.30196078]],\n",
       "\n",
       "        [[0.23529412],\n",
       "         [0.16470588],\n",
       "         [0.14509804],\n",
       "         ...,\n",
       "         [0.04313725],\n",
       "         [0.03921569],\n",
       "         [0.00784314]]],\n",
       "\n",
       "\n",
       "       [[[0.32156863],\n",
       "         [0.7372549 ],\n",
       "         [0.16078431],\n",
       "         ...,\n",
       "         [0.3372549 ],\n",
       "         [0.08235294],\n",
       "         [0.45882353]],\n",
       "\n",
       "        [[0.15294118],\n",
       "         [0.27843137],\n",
       "         [0.0745098 ],\n",
       "         ...,\n",
       "         [0.76862745],\n",
       "         [0.28235294],\n",
       "         [1.        ]],\n",
       "\n",
       "        [[0.30196078],\n",
       "         [1.        ],\n",
       "         [0.21960784],\n",
       "         ...,\n",
       "         [0.44705882],\n",
       "         [0.16078431],\n",
       "         [0.67058824]],\n",
       "\n",
       "        ...,\n",
       "\n",
       "        [[0.21176471],\n",
       "         [0.15294118],\n",
       "         [0.50196078],\n",
       "         ...,\n",
       "         [0.69411765],\n",
       "         [0.6       ],\n",
       "         [0.14509804]],\n",
       "\n",
       "        [[0.2       ],\n",
       "         [0.25490196],\n",
       "         [0.45098039],\n",
       "         ...,\n",
       "         [0.77647059],\n",
       "         [0.68235294],\n",
       "         [0.18823529]],\n",
       "\n",
       "        [[0.41960784],\n",
       "         [0.29019608],\n",
       "         [1.        ],\n",
       "         ...,\n",
       "         [0.23137255],\n",
       "         [0.24705882],\n",
       "         [0.10196078]]]])"
      ]
     },
     "execution_count": 7,
     "metadata": {},
     "output_type": "execute_result"
    }
   ],
   "source": [
    "X\n"
   ]
  },
  {
   "cell_type": "code",
   "execution_count": 8,
   "metadata": {},
   "outputs": [
    {
     "data": {
      "text/plain": [
       "(60000, 60, 60, 1)"
      ]
     },
     "execution_count": 8,
     "metadata": {},
     "output_type": "execute_result"
    }
   ],
   "source": [
    "X.shape"
   ]
  },
  {
   "cell_type": "code",
   "execution_count": 10,
   "metadata": {},
   "outputs": [],
   "source": [
    "def build_model():\n",
    "    model = Sequential()\n",
    "\n",
    "    # 1st Conv-Layer\n",
    "    model.add(Conv2D(128, (3, 3), input_shape=(X.shape[1:])))\n",
    "    model.add(Activation(LeakyReLU(alpha=0.2)))\n",
    "    model.add(BatchNormalization())\n",
    "    model.add(MaxPool2D(2, 2))\n",
    "\n",
    "    # 2nd Conv-Layer\n",
    "    model.add(Conv2D(192, (3, 3)))\n",
    "    model.add(Activation(LeakyReLU(alpha=0.2)))\n",
    "    model.add(BatchNormalization())\n",
    "    model.add(MaxPool2D(pool_size=(2, 2)))\n",
    "    \n",
    "    # 3rd Conv-Layer\n",
    "    model.add(Conv2D(320, (3, 3)))\n",
    "    model.add(Activation(LeakyReLU(alpha=0.2)))\n",
    "    model.add(BatchNormalization())\n",
    "    model.add(MaxPool2D(pool_size=(2, 2)))\n",
    "\n",
    "    # 4th Conv-Layer\n",
    "    model.add(Conv2D(576, (3, 3)))\n",
    "    model.add(Activation(LeakyReLU(alpha=0.2)))\n",
    "    model.add(BatchNormalization())\n",
    "    model.add(MaxPool2D(pool_size=(2, 2)))\n",
    "\n",
    "    model.add(Flatten())\n",
    "\n",
    "    # 1st Fully-Connected\n",
    "    model.add(Dense(4096))\n",
    "    model.add(Activation(LeakyReLU(alpha=0.2)))\n",
    "\n",
    "    # 2nd Fully-Connected\n",
    "    model.add(Dense(4096))\n",
    "    model.add(Activation(LeakyReLU(alpha=0.2)))\n",
    "\n",
    "    # 3rd Fully-Connected\n",
    "    model.add(Dense(1))\n",
    "    model.add(Activation(\"sigmoid\"))\n",
    "    return model\n",
    "\n",
    "\n",
    "model = build_model()\n"
   ]
  },
  {
   "cell_type": "code",
   "execution_count": 11,
   "metadata": {},
   "outputs": [
    {
     "name": "stdout",
     "output_type": "stream",
     "text": [
      "Model: \"sequential\"\n",
      "_________________________________________________________________\n",
      "Layer (type)                 Output Shape              Param #   \n",
      "=================================================================\n",
      "conv2d (Conv2D)              (None, 58, 58, 128)       3584      \n",
      "_________________________________________________________________\n",
      "activation (Activation)      (None, 58, 58, 128)       0         \n",
      "_________________________________________________________________\n",
      "batch_normalization (BatchNo (None, 58, 58, 128)       512       \n",
      "_________________________________________________________________\n",
      "max_pooling2d (MaxPooling2D) (None, 29, 29, 128)       0         \n",
      "_________________________________________________________________\n",
      "flatten (Flatten)            (None, 107648)            0         \n",
      "_________________________________________________________________\n",
      "dense (Dense)                (None, 1)                 107649    \n",
      "_________________________________________________________________\n",
      "activation_1 (Activation)    (None, 1)                 0         \n",
      "=================================================================\n",
      "Total params: 111,745\n",
      "Trainable params: 111,489\n",
      "Non-trainable params: 256\n",
      "_________________________________________________________________\n"
     ]
    }
   ],
   "source": [
    "\n",
    "model.compile(loss=\"binary_crossentropy\", optimizer=\"adam\", metrics=[\"accuracy\"])\n",
    "model.summary()"
   ]
  },
  {
   "cell_type": "code",
   "execution_count": 12,
   "metadata": {},
   "outputs": [
    {
     "name": "stdout",
     "output_type": "stream",
     "text": [
      "1688/1688 [==============================] - 81s 29ms/step - loss: 0.0466 - accuracy: 0.9955 - val_loss: 0.0053 - val_accuracy: 0.9993\n"
     ]
    },
    {
     "data": {
      "text/plain": [
       "<tensorflow.python.keras.callbacks.History at 0x24c31021310>"
      ]
     },
     "execution_count": 12,
     "metadata": {},
     "output_type": "execute_result"
    }
   ],
   "source": [
    "model.fit(X, Y, batch_size=32, epochs=EPOCHS, validation_split=0.1, callbacks=[tensorboard])"
   ]
  },
  {
   "cell_type": "markdown",
   "metadata": {},
   "source": [
    "# Test\n"
   ]
  },
  {
   "cell_type": "code",
   "execution_count": 13,
   "metadata": {},
   "outputs": [],
   "source": [
    "# model = tf.keras.models.load_model(\"./models/single_rgb_image_big_dataset\")\n"
   ]
  },
  {
   "cell_type": "code",
   "execution_count": 14,
   "metadata": {},
   "outputs": [],
   "source": [
    "# # Alias\n",
    "\n",
    "# img1 = Image.open(\n",
    "#     \"D:\\Main\\MA_PROGR\\Data\\Train\\LED_Wand_Aufnahmen\\Alias\\LED_Wand_20001.png\")\n",
    "# img1 = np.asarray(img1)/255\n",
    "\n",
    "\n",
    "\n",
    "\n",
    "# img1 = img1.reshape(1,60,60,3)\n",
    "# print(img1.shape)\n",
    "# # print(img1)\n",
    "# res1 = model.predict(img1)\n",
    "# print(res1)\n"
   ]
  },
  {
   "cell_type": "code",
   "execution_count": null,
   "metadata": {},
   "outputs": [],
   "source": []
  },
  {
   "cell_type": "code",
   "execution_count": 15,
   "metadata": {},
   "outputs": [],
   "source": [
    "# # NoAlias\n",
    "\n",
    "# img2 = Image.open(\n",
    "#     \"D:\\\\Main\\\\MA_PROGR\\\\Data\\\\Train\\\\LED_Wand_Aufnahmen\\\\NoAlias\\\\abstract_cross_203.png\")\n",
    "# img2 = np.asarray(img2)/255\n",
    "\n",
    "# img2 = img2.reshape(1, 60, 60, 3)\n",
    "# img2.shape\n",
    "# # print(img2)\n",
    "# res2 = model.predict(img2)\n",
    "# print(res2)\n"
   ]
  },
  {
   "cell_type": "code",
   "execution_count": 16,
   "metadata": {},
   "outputs": [],
   "source": [
    "# import matplotlib.pyplot as plt\n",
    "# plt.imshow(img2.reshape(60, 60, 3))\n"
   ]
  },
  {
   "cell_type": "code",
   "execution_count": 17,
   "metadata": {},
   "outputs": [
    {
     "name": "stderr",
     "output_type": "stream",
     "text": [
      "WARNING:absl:Found untraced functions such as leaky_re_lu_layer_call_and_return_conditional_losses, leaky_re_lu_layer_call_fn, leaky_re_lu_layer_call_fn, leaky_re_lu_layer_call_and_return_conditional_losses, leaky_re_lu_layer_call_and_return_conditional_losses while saving (showing 5 of 5). These functions will not be directly callable after loading.\n"
     ]
    },
    {
     "name": "stdout",
     "output_type": "stream",
     "text": [
      "INFO:tensorflow:Assets written to: ./models/single_rgb_image_trainset_V04_1653260543\\assets\n"
     ]
    },
    {
     "name": "stderr",
     "output_type": "stream",
     "text": [
      "INFO:tensorflow:Assets written to: ./models/single_rgb_image_trainset_V04_1653260543\\assets\n"
     ]
    }
   ],
   "source": [
    "tf.keras.models.save_model(model, \"./models/{}\".format(NAME))"
   ]
  },
  {
   "cell_type": "code",
   "execution_count": null,
   "metadata": {},
   "outputs": [],
   "source": []
  }
 ],
 "metadata": {
  "interpreter": {
   "hash": "bbe6f1f0ffae94815f8b68c5970304948992b116503ec65631f55d524065bfaa"
  },
  "kernelspec": {
   "display_name": "Python 3.9.7 ('tf_training')",
   "language": "python",
   "name": "python3"
  },
  "language_info": {
   "codemirror_mode": {
    "name": "ipython",
    "version": 3
   },
   "file_extension": ".py",
   "mimetype": "text/x-python",
   "name": "python",
   "nbconvert_exporter": "python",
   "pygments_lexer": "ipython3",
   "version": "3.9.7"
  },
  "orig_nbformat": 4
 },
 "nbformat": 4,
 "nbformat_minor": 2
}
